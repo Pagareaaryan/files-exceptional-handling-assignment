{
  "nbformat": 4,
  "nbformat_minor": 0,
  "metadata": {
    "colab": {
      "provenance": []
    },
    "kernelspec": {
      "name": "python3",
      "display_name": "Python 3"
    },
    "language_info": {
      "name": "python"
    }
  },
  "cells": [
    {
      "cell_type": "markdown",
      "source": [
        "#Files & Exceptional Handling Assignment"
      ],
      "metadata": {
        "id": "AgTPTuS09mWq"
      }
    },
    {
      "cell_type": "markdown",
      "source": [
        "1. What is the difference between interpreted and compiled languages?\n",
        "\n",
        "Interpreted languages execute code line-by-line (e.g., Python), while compiled languages translate the entire code into machine language at once before execution (e.g., C, C++).\n",
        "\n",
        "2. What is exception handling in Python?\n",
        "\n",
        "Exception handling manages runtime errors, allowing the program to continue instead of crashing, using constructs like try, except, finally, and else.\n",
        "\n",
        "3. What is the purpose of the finally block in exception handling?\n",
        "\n",
        "The finally block ensures that important cleanup actions are performed, no matter if an exception occurred or not.\n",
        "\n",
        "4. What is logging in Python?\n",
        "\n",
        "Logging records events, errors, or informational messages during a program’s execution, helping in debugging and monitoring.\n",
        "\n",
        "5. What is the significance of the __del__ method in Python?\n",
        "\n",
        "The __del__ method is a destructor that is called when an object is about to be destroyed, helping in resource cleanup.\n",
        "\n",
        "6. What is the difference between import and from ... import in Python?\n",
        "\n",
        "import module imports the whole module; from module import function imports only specific parts.\n",
        "\n"
      ],
      "metadata": {
        "id": "jlfx9iJ79vmM"
      }
    },
    {
      "cell_type": "markdown",
      "source": [
        "7. How can you handle multiple exceptions in Python?\n",
        "\n",
        "Use multiple except blocks or a tuple in a single except block:"
      ],
      "metadata": {
        "id": "hvkqHW7s935W"
      }
    },
    {
      "cell_type": "code",
      "source": [
        "try:\n",
        "    # code\n",
        "except (TypeError, ValueError):\n",
        "    # handle both errors\n"
      ],
      "metadata": {
        "id": "u19mDkxz96Ze"
      },
      "execution_count": null,
      "outputs": []
    },
    {
      "cell_type": "markdown",
      "source": [
        "8. What is the purpose of the with statement when handling files in Python?\n",
        "\n",
        "with automatically manages file opening and closing, reducing the risk of file corruption.\n",
        "\n",
        "9. What is the difference between multithreading and multiprocessing?\n",
        "\n",
        "Multithreading runs threads within the same process; multiprocessing runs multiple separate processes, using multiple CPUs.\n",
        "\n",
        "10. What are the advantages of using logging in a program?\n",
        "\n",
        "Helps in debugging, tracks program flow, captures runtime information, and replaces excessive use of print() statements.\n",
        "\n",
        "11. What is memory management in Python?\n",
        "\n",
        "It involves the allocation, use, and release of memory automatically using a private heap and garbage collection.\n",
        "\n",
        "12. What are the basic steps involved in exception handling in Python?\n",
        "\n",
        "Detect error → Catch error using try-except → Execute alternative code → Optionally clean up using finally.\n",
        "\n",
        "13. Why is memory management important in Python?\n",
        "\n",
        "Efficient memory use prevents memory leaks and ensures that programs run smoothly and efficiently.\n",
        "\n",
        "14. What is the role of try and except in exception handling?\n",
        "\n",
        "try block wraps code that might raise an exception; except block defines how to respond if an error occurs.\n",
        "\n",
        "15. How does Python's garbage collection system work?\n",
        "\n",
        "It uses reference counting and a cyclic garbage collector to reclaim memory used by unreferenced objects.\n",
        "\n",
        "16. What is the purpose of the else block in exception handling?\n",
        "\n",
        "Executes code when no exceptions occur in the try block.\n",
        "\n",
        "17. What are the common logging levels in Python?\n",
        "\n",
        "DEBUG, INFO, WARNING, ERROR, and CRITICAL.\n",
        "\n",
        "18. What is the difference between os.fork() and multiprocessing in Python?\n",
        "\n",
        "os.fork() creates a child process in Unix systems; multiprocessing works across all platforms and is higher-level.\n",
        "\n",
        "19. What is the importance of closing a file in Python?\n",
        "\n",
        "Frees up system resources and ensures that all data is written and saved correctly.\n",
        "\n",
        "20. What is the difference between file.read() and file.readline() in Python?\n",
        "\n",
        "read() reads the entire file at once; readline() reads a single line at a time.\n",
        "\n",
        "21. What is the logging module in Python used for?\n",
        "\n",
        "It provides a flexible framework for emitting log messages from Python programs.\n",
        "\n",
        "22. What is the os module in Python used for in file handling?\n",
        "\n",
        "It provides functions to interact with the operating system like creating, removing, and changing files and directories.\n",
        "\n",
        "23. What are the challenges associated with memory management in Python?\n",
        "\n",
        "Dealing with cyclic references, memory leaks, and the overhead of automatic garbage collection."
      ],
      "metadata": {
        "id": "Ofo7JKMt97vq"
      }
    },
    {
      "cell_type": "markdown",
      "source": [
        "24. How do you raise an exception manually in Python?\n",
        "\n",
        "Use the raise statement:"
      ],
      "metadata": {
        "id": "sy8PR3Iy-DPh"
      }
    },
    {
      "cell_type": "code",
      "source": [
        "raise ValueError(\"Invalid input\")\n"
      ],
      "metadata": {
        "id": "jQeKwGAZ-FOC"
      },
      "execution_count": null,
      "outputs": []
    },
    {
      "cell_type": "markdown",
      "source": [
        "25. Why is it important to use multithreading in certain applications?\n",
        "\n",
        "It improves application performance, responsiveness, and efficient CPU usage especially for I/O-bound tasks.\n",
        "\n"
      ],
      "metadata": {
        "id": "2tpSTTKZ-Gs0"
      }
    },
    {
      "cell_type": "code",
      "source": [
        "# 26. Open a file for writing and write a string\n",
        "with open('output.txt', 'w') as file:\n",
        "    file.write('Hello, World!')\n"
      ],
      "metadata": {
        "id": "oZl2nBhe-Vk-"
      },
      "execution_count": 1,
      "outputs": []
    },
    {
      "cell_type": "code",
      "source": [
        "# 27. Read contents of a file and print each line\n",
        "with open('input.txt', 'r') as file:\n",
        "    for line in file:\n",
        "        print(line.strip())\n"
      ],
      "metadata": {
        "colab": {
          "base_uri": "https://localhost:8080/",
          "height": 193
        },
        "id": "1_xHC9HU-ZaS",
        "outputId": "41e099f2-d4fa-4019-ff88-b9867ffa845e"
      },
      "execution_count": 2,
      "outputs": [
        {
          "output_type": "error",
          "ename": "FileNotFoundError",
          "evalue": "[Errno 2] No such file or directory: 'input.txt'",
          "traceback": [
            "\u001b[0;31m---------------------------------------------------------------------------\u001b[0m",
            "\u001b[0;31mFileNotFoundError\u001b[0m                         Traceback (most recent call last)",
            "\u001b[0;32m<ipython-input-2-de216761151f>\u001b[0m in \u001b[0;36m<cell line: 0>\u001b[0;34m()\u001b[0m\n\u001b[1;32m      1\u001b[0m \u001b[0;31m# 27. Read contents of a file and print each line\u001b[0m\u001b[0;34m\u001b[0m\u001b[0;34m\u001b[0m\u001b[0m\n\u001b[0;32m----> 2\u001b[0;31m \u001b[0;32mwith\u001b[0m \u001b[0mopen\u001b[0m\u001b[0;34m(\u001b[0m\u001b[0;34m'input.txt'\u001b[0m\u001b[0;34m,\u001b[0m \u001b[0;34m'r'\u001b[0m\u001b[0;34m)\u001b[0m \u001b[0;32mas\u001b[0m \u001b[0mfile\u001b[0m\u001b[0;34m:\u001b[0m\u001b[0;34m\u001b[0m\u001b[0;34m\u001b[0m\u001b[0m\n\u001b[0m\u001b[1;32m      3\u001b[0m     \u001b[0;32mfor\u001b[0m \u001b[0mline\u001b[0m \u001b[0;32min\u001b[0m \u001b[0mfile\u001b[0m\u001b[0;34m:\u001b[0m\u001b[0;34m\u001b[0m\u001b[0;34m\u001b[0m\u001b[0m\n\u001b[1;32m      4\u001b[0m         \u001b[0mprint\u001b[0m\u001b[0;34m(\u001b[0m\u001b[0mline\u001b[0m\u001b[0;34m.\u001b[0m\u001b[0mstrip\u001b[0m\u001b[0;34m(\u001b[0m\u001b[0;34m)\u001b[0m\u001b[0;34m)\u001b[0m\u001b[0;34m\u001b[0m\u001b[0;34m\u001b[0m\u001b[0m\n",
            "\u001b[0;31mFileNotFoundError\u001b[0m: [Errno 2] No such file or directory: 'input.txt'"
          ]
        }
      ]
    },
    {
      "cell_type": "code",
      "source": [
        "# 28. Handle file not found error when opening for reading\n",
        "try:\n",
        "    with open('nonexistent.txt', 'r') as file:\n",
        "        content = file.read()\n",
        "except FileNotFoundError:\n",
        "    print(\"File not found.\")\n"
      ],
      "metadata": {
        "colab": {
          "base_uri": "https://localhost:8080/"
        },
        "id": "DLd07-5Y-bir",
        "outputId": "ce0dc260-9443-4c35-aacc-b2ba299f9c74"
      },
      "execution_count": 3,
      "outputs": [
        {
          "output_type": "stream",
          "name": "stdout",
          "text": [
            "File not found.\n"
          ]
        }
      ]
    },
    {
      "cell_type": "code",
      "source": [
        "# 29. Read from one file and write content to another file\n",
        "with open('source.txt', 'r') as source, open('destination.txt', 'w') as dest:\n",
        "    for line in source:\n",
        "        dest.write(line)\n"
      ],
      "metadata": {
        "colab": {
          "base_uri": "https://localhost:8080/",
          "height": 193
        },
        "id": "mwboigcO-c8g",
        "outputId": "6f141eb5-5d0c-497d-ba5c-eafe1b78d874"
      },
      "execution_count": 4,
      "outputs": [
        {
          "output_type": "error",
          "ename": "FileNotFoundError",
          "evalue": "[Errno 2] No such file or directory: 'source.txt'",
          "traceback": [
            "\u001b[0;31m---------------------------------------------------------------------------\u001b[0m",
            "\u001b[0;31mFileNotFoundError\u001b[0m                         Traceback (most recent call last)",
            "\u001b[0;32m<ipython-input-4-50d0ed2f9e32>\u001b[0m in \u001b[0;36m<cell line: 0>\u001b[0;34m()\u001b[0m\n\u001b[1;32m      1\u001b[0m \u001b[0;31m# 29. Read from one file and write content to another file\u001b[0m\u001b[0;34m\u001b[0m\u001b[0;34m\u001b[0m\u001b[0m\n\u001b[0;32m----> 2\u001b[0;31m \u001b[0;32mwith\u001b[0m \u001b[0mopen\u001b[0m\u001b[0;34m(\u001b[0m\u001b[0;34m'source.txt'\u001b[0m\u001b[0;34m,\u001b[0m \u001b[0;34m'r'\u001b[0m\u001b[0;34m)\u001b[0m \u001b[0;32mas\u001b[0m \u001b[0msource\u001b[0m\u001b[0;34m,\u001b[0m \u001b[0mopen\u001b[0m\u001b[0;34m(\u001b[0m\u001b[0;34m'destination.txt'\u001b[0m\u001b[0;34m,\u001b[0m \u001b[0;34m'w'\u001b[0m\u001b[0;34m)\u001b[0m \u001b[0;32mas\u001b[0m \u001b[0mdest\u001b[0m\u001b[0;34m:\u001b[0m\u001b[0;34m\u001b[0m\u001b[0;34m\u001b[0m\u001b[0m\n\u001b[0m\u001b[1;32m      3\u001b[0m     \u001b[0;32mfor\u001b[0m \u001b[0mline\u001b[0m \u001b[0;32min\u001b[0m \u001b[0msource\u001b[0m\u001b[0;34m:\u001b[0m\u001b[0;34m\u001b[0m\u001b[0;34m\u001b[0m\u001b[0m\n\u001b[1;32m      4\u001b[0m         \u001b[0mdest\u001b[0m\u001b[0;34m.\u001b[0m\u001b[0mwrite\u001b[0m\u001b[0;34m(\u001b[0m\u001b[0mline\u001b[0m\u001b[0;34m)\u001b[0m\u001b[0;34m\u001b[0m\u001b[0;34m\u001b[0m\u001b[0m\n",
            "\u001b[0;31mFileNotFoundError\u001b[0m: [Errno 2] No such file or directory: 'source.txt'"
          ]
        }
      ]
    },
    {
      "cell_type": "code",
      "source": [
        "# 30. Catch and handle division by zero error\n",
        "try:\n",
        "    result = 10 / 0\n",
        "except ZeroDivisionError:\n",
        "    print(\"Division by zero is not allowed.\")\n"
      ],
      "metadata": {
        "colab": {
          "base_uri": "https://localhost:8080/"
        },
        "id": "8ISLWh3T-dg3",
        "outputId": "99512b7a-0992-49f5-cbac-a499a94aee97"
      },
      "execution_count": 5,
      "outputs": [
        {
          "output_type": "stream",
          "name": "stdout",
          "text": [
            "Division by zero is not allowed.\n"
          ]
        }
      ]
    },
    {
      "cell_type": "code",
      "source": [
        "# 31. Log an error message when division by zero occurs\n",
        "import logging\n",
        "\n",
        "logging.basicConfig(filename='error.log', level=logging.ERROR)\n",
        "\n",
        "try:\n",
        "    result = 10 / 0\n",
        "except ZeroDivisionError:\n",
        "    logging.error(\"Attempted division by zero.\")\n"
      ],
      "metadata": {
        "colab": {
          "base_uri": "https://localhost:8080/"
        },
        "id": "RlXnF0GY-f2r",
        "outputId": "d1ba425d-38e9-44d8-c2dc-fbf31ad7ca71"
      },
      "execution_count": 6,
      "outputs": [
        {
          "output_type": "stream",
          "name": "stderr",
          "text": [
            "ERROR:root:Attempted division by zero.\n"
          ]
        }
      ]
    },
    {
      "cell_type": "code",
      "source": [
        "# 32. Log information at different levels using logging module\n",
        "import logging\n",
        "\n",
        "logging.basicConfig(level=logging.DEBUG)\n",
        "\n",
        "logging.info('This is an info message.')\n",
        "logging.warning('This is a warning message.')\n",
        "logging.error('This is an error message.')\n"
      ],
      "metadata": {
        "colab": {
          "base_uri": "https://localhost:8080/"
        },
        "id": "7oxHpvtO-gaS",
        "outputId": "cf636ae0-60c8-4d2f-a998-6743acf107bf"
      },
      "execution_count": 7,
      "outputs": [
        {
          "output_type": "stream",
          "name": "stderr",
          "text": [
            "WARNING:root:This is a warning message.\n",
            "ERROR:root:This is an error message.\n"
          ]
        }
      ]
    },
    {
      "cell_type": "code",
      "source": [
        "# 33. Handle file opening error using exception handling\n",
        "try:\n",
        "    file = open('data.txt', 'r')\n",
        "except IOError:\n",
        "    print(\"Error opening file.\")\n"
      ],
      "metadata": {
        "colab": {
          "base_uri": "https://localhost:8080/"
        },
        "id": "oa-62-gG-iIv",
        "outputId": "1f9ca554-4366-44ac-8cf0-fe583ff670e0"
      },
      "execution_count": 8,
      "outputs": [
        {
          "output_type": "stream",
          "name": "stdout",
          "text": [
            "Error opening file.\n"
          ]
        }
      ]
    },
    {
      "cell_type": "code",
      "source": [
        "# 34. Read a file line by line and store contents in a list\n",
        "with open('file.txt', 'r') as file:\n",
        "    lines = file.readlines()\n",
        "print(lines)\n"
      ],
      "metadata": {
        "colab": {
          "base_uri": "https://localhost:8080/",
          "height": 193
        },
        "id": "2x4D6yYX-jni",
        "outputId": "7936c45a-ca87-4655-86a6-a128ed2e6712"
      },
      "execution_count": 9,
      "outputs": [
        {
          "output_type": "error",
          "ename": "FileNotFoundError",
          "evalue": "[Errno 2] No such file or directory: 'file.txt'",
          "traceback": [
            "\u001b[0;31m---------------------------------------------------------------------------\u001b[0m",
            "\u001b[0;31mFileNotFoundError\u001b[0m                         Traceback (most recent call last)",
            "\u001b[0;32m<ipython-input-9-417328a3db9a>\u001b[0m in \u001b[0;36m<cell line: 0>\u001b[0;34m()\u001b[0m\n\u001b[1;32m      1\u001b[0m \u001b[0;31m# 34. Read a file line by line and store contents in a list\u001b[0m\u001b[0;34m\u001b[0m\u001b[0;34m\u001b[0m\u001b[0m\n\u001b[0;32m----> 2\u001b[0;31m \u001b[0;32mwith\u001b[0m \u001b[0mopen\u001b[0m\u001b[0;34m(\u001b[0m\u001b[0;34m'file.txt'\u001b[0m\u001b[0;34m,\u001b[0m \u001b[0;34m'r'\u001b[0m\u001b[0;34m)\u001b[0m \u001b[0;32mas\u001b[0m \u001b[0mfile\u001b[0m\u001b[0;34m:\u001b[0m\u001b[0;34m\u001b[0m\u001b[0;34m\u001b[0m\u001b[0m\n\u001b[0m\u001b[1;32m      3\u001b[0m     \u001b[0mlines\u001b[0m \u001b[0;34m=\u001b[0m \u001b[0mfile\u001b[0m\u001b[0;34m.\u001b[0m\u001b[0mreadlines\u001b[0m\u001b[0;34m(\u001b[0m\u001b[0;34m)\u001b[0m\u001b[0;34m\u001b[0m\u001b[0;34m\u001b[0m\u001b[0m\n\u001b[1;32m      4\u001b[0m \u001b[0mprint\u001b[0m\u001b[0;34m(\u001b[0m\u001b[0mlines\u001b[0m\u001b[0;34m)\u001b[0m\u001b[0;34m\u001b[0m\u001b[0;34m\u001b[0m\u001b[0m\n",
            "\u001b[0;31mFileNotFoundError\u001b[0m: [Errno 2] No such file or directory: 'file.txt'"
          ]
        }
      ]
    },
    {
      "cell_type": "code",
      "source": [
        "# 35. Append data to an existing file\n",
        "with open('file.txt', 'a') as file:\n",
        "    file.write('\\nNew line appended.')\n"
      ],
      "metadata": {
        "id": "2tr88ca4-l8b"
      },
      "execution_count": null,
      "outputs": []
    },
    {
      "cell_type": "code",
      "source": [
        "# 36. Handle error when accessing non-existent dictionary key\n",
        "data = {'name': 'John'}\n",
        "\n",
        "try:\n",
        "    print(data['age'])\n",
        "except KeyError:\n",
        "    print(\"Key not found.\")\n"
      ],
      "metadata": {
        "id": "bMxDW9kq-np3"
      },
      "execution_count": null,
      "outputs": []
    },
    {
      "cell_type": "code",
      "source": [
        "# 37. Handle different exceptions with multiple except blocks\n",
        "try:\n",
        "    a = int(input(\"Enter a number: \"))\n",
        "    b = 10 / a\n",
        "except ValueError:\n",
        "    print(\"Invalid input.\")\n",
        "except ZeroDivisionError:\n",
        "    print(\"Cannot divide by zero.\")\n"
      ],
      "metadata": {
        "id": "SmEmfkmT-pD5"
      },
      "execution_count": null,
      "outputs": []
    },
    {
      "cell_type": "code",
      "source": [
        "# 38. Check if file exists before reading\n",
        "import os\n",
        "\n",
        "if os.path.exists('file.txt'):\n",
        "    with open('file.txt', 'r') as file:\n",
        "        content = file.read()\n",
        "else:\n",
        "    print(\"File does not exist.\")\n"
      ],
      "metadata": {
        "id": "RnRVQQTo-q9W"
      },
      "execution_count": null,
      "outputs": []
    },
    {
      "cell_type": "code",
      "source": [
        "# 39. Log informational and error messages using logging module\n",
        "import logging\n",
        "\n",
        "logging.basicConfig(filename='app.log', level=logging.DEBUG)\n",
        "\n",
        "logging.info('Program started')\n",
        "try:\n",
        "    x = 10 / 0\n",
        "except ZeroDivisionError:\n",
        "    logging.error('Division by zero error')\n"
      ],
      "metadata": {
        "id": "UEaniHaL-tgd"
      },
      "execution_count": null,
      "outputs": []
    },
    {
      "cell_type": "code",
      "source": [
        "# 40. Print file content and handle empty file case\n",
        "with open('file.txt', 'r') as file:\n",
        "    content = file.read()\n",
        "    if content:\n",
        "        print(content)\n",
        "    else:\n",
        "        print(\"File is empty.\")\n"
      ],
      "metadata": {
        "id": "BLHe5ULW-u4u"
      },
      "execution_count": null,
      "outputs": []
    },
    {
      "cell_type": "code",
      "source": [
        "# 41. Use memory profiling to check memory usage\n",
        "from memory_profiler import profile\n",
        "\n",
        "@profile\n",
        "def my_func():\n",
        "    a = [i for i in range(10000)]\n",
        "    return a\n",
        "\n",
        "my_func()\n"
      ],
      "metadata": {
        "id": "3rp66lPu-wMk"
      },
      "execution_count": null,
      "outputs": []
    },
    {
      "cell_type": "code",
      "source": [
        "# 42. Create and write a list of numbers to a file\n",
        "numbers = [1, 2, 3, 4, 5]\n",
        "\n",
        "with open('numbers.txt', 'w') as file:\n",
        "    for number in numbers:\n",
        "        file.write(f'{number}\\n')\n"
      ],
      "metadata": {
        "id": "r3jBnAyV-yYp"
      },
      "execution_count": null,
      "outputs": []
    },
    {
      "cell_type": "code",
      "source": [
        "# 43. Basic logging setup with log rotation after 1MB\n",
        "import logging\n",
        "from logging.handlers import RotatingFileHandler\n",
        "\n",
        "handler = RotatingFileHandler('my_log.log', maxBytes=1024*1024, backupCount=3)\n",
        "logger = logging.getLogger()\n",
        "logger.setLevel(logging.INFO)\n",
        "logger.addHandler(handler)\n",
        "\n",
        "logger.info('This is a log message.')\n"
      ],
      "metadata": {
        "id": "FMWQL8fM-0AA"
      },
      "execution_count": null,
      "outputs": []
    },
    {
      "cell_type": "code",
      "source": [
        "# 44. Handle IndexError and KeyError with try-except\n",
        "data = {'name': 'John'}\n",
        "\n",
        "try:\n",
        "    lst = [1, 2, 3]\n",
        "    print(lst[5])\n",
        "    print(data['age'])\n",
        "except IndexError:\n",
        "    print(\"List index out of range.\")\n",
        "except KeyError:\n",
        "    print(\"Key not found in dictionary.\")\n"
      ],
      "metadata": {
        "id": "yQnhZRoJ-1c9"
      },
      "execution_count": null,
      "outputs": []
    },
    {
      "cell_type": "code",
      "source": [
        "# 45. Open and read file contents using context manager\n",
        "with open('file.txt', 'r') as file:\n",
        "    content = file.read()\n",
        "print(content)\n"
      ],
      "metadata": {
        "id": "APa5jA_J-2zd"
      },
      "execution_count": null,
      "outputs": []
    },
    {
      "cell_type": "code",
      "source": [
        "# 46. Read file and count number of occurrences of a specific word\n",
        "word_to_find = 'hello'\n",
        "\n",
        "with open('file.txt', 'r') as file:\n",
        "    content = file.read()\n",
        "\n",
        "count = content.lower().split().count(word_to_find.lower())\n",
        "print(f\"The word '{word_to_find}' appears {count} times.\")\n"
      ],
      "metadata": {
        "id": "9TWLCVj5-4Oj"
      },
      "execution_count": null,
      "outputs": []
    },
    {
      "cell_type": "code",
      "source": [
        "# 47. Check if file is empty before reading contents\n",
        "import os\n",
        "\n",
        "if os.path.getsize('file.txt') == 0:\n",
        "    print(\"File is empty.\")\n",
        "else:\n",
        "    with open('file.txt', 'r') as file:\n",
        "        print(file.read())\n"
      ],
      "metadata": {
        "id": "raILbp6V-5tG"
      },
      "execution_count": null,
      "outputs": []
    },
    {
      "cell_type": "code",
      "source": [
        "# 48. Log error when file handling fails\n",
        "import logging\n",
        "\n",
        "logging.basicConfig(filename='file_error.log', level=logging.ERROR)\n",
        "\n",
        "try:\n",
        "    with open('nonexistentfile.txt', 'r') as file:\n",
        "        content = file.read()\n",
        "except FileNotFoundError as e:\n",
        "    logging.error(f\"File not found error: {e}\")\n"
      ],
      "metadata": {
        "id": "JBA_RO4Z-8NL"
      },
      "execution_count": null,
      "outputs": []
    }
  ]
}